{
 "cells": [
  {
   "cell_type": "code",
   "execution_count": 57,
   "metadata": {},
   "outputs": [],
   "source": [
    "import numpy as np\n",
    "from numpy import random\n",
    "from collections import defaultdict"
   ]
  },
  {
   "cell_type": "code",
   "execution_count": 338,
   "metadata": {},
   "outputs": [],
   "source": [
    "\n",
    "def create_vec(n):\n",
    "    vec=[i for i in range(1,n)]\n",
    "    random.shuffle(vec)\n",
    "    vec=[0]+vec + [0]\n",
    "    return vec\n",
    "\n",
    "def population_lst(population,k,n):\n",
    "    while len(population)<k:\n",
    "        population.append(create_vec(n))\n",
    "    return population\n",
    "\n",
    "\n",
    "def score(vec,city):\n",
    "    dist=0\n",
    "    \n",
    "    for i in range(len(vec)-1):\n",
    "        # Print the current index and the values of vec[i] and vec[i+1]\n",
    "        \n",
    "        # Now, execute the distance addition\n",
    "        dist = dist + np.sqrt(np.square(city[vec[i+1]][0] - city[vec[i]][0]) + np.square(city[vec[i+1]][1] - city[vec[i]][1]))\n",
    "\n",
    "\n",
    "    return dist\n",
    "    \n",
    "    \n",
    "\n",
    "\n",
    "\n",
    "def mutation(vec):\n",
    "    \n",
    "    p1=np.random.randint(1,len(vec)-1)\n",
    "    p2=np.random.randint(1,len(vec)-1)\n",
    "    vec[p1],vec[p2]=vec[p2],vec[p1]\n",
    "    return vec\n",
    "\n",
    "import numpy as np\n",
    "\n",
    "def reproduction(vec1, vec2):\n",
    "    \"\"\"\n",
    "    Performs ordered crossover between two parent vectors vec1 and vec2\n",
    "    to generate two offspring vectors.\n",
    "\n",
    "    Args:\n",
    "        vec1 (list): First parent vector.\n",
    "        vec2 (list): Second parent vector.\n",
    "\n",
    "    Returns:\n",
    "        tuple: Two offspring vectors (child1, child2).\n",
    "    \"\"\"\n",
    "    # Randomly select two crossover points\n",
    "    p1, p2 = sorted(np.random.choice(range(1, len(vec1) - 1), size=2, replace=False))\n",
    "    \n",
    "    # Ordered Crossover for child1\n",
    "    child1 = vec1[p1:p2]  # Extract segment from vec1\n",
    "    remaining = [gene for gene in vec2 if gene not in child1]  # Maintain order from vec2\n",
    "    child1 = [0] + remaining[:p1 - 1] + child1 + remaining[p1 - 1:] + [0]  # Assemble child1\n",
    "\n",
    "    # Ordered Crossover for child2\n",
    "    child2 = vec2[p1:p2]  # Extract segment from vec2\n",
    "    remaining = [gene for gene in vec1 if gene not in child2]  # Maintain order from vec1\n",
    "    child2 = [0] + remaining[:p1 - 1] + child2 + remaining[p1 - 1:] + [0]  # Assemble child2\n",
    "    \n",
    "    return child1, child2\n",
    "\n",
    "\n",
    "    \n",
    "    \n",
    "       \n"
   ]
  },
  {
   "cell_type": "code",
   "execution_count": 339,
   "metadata": {},
   "outputs": [],
   "source": [
    "def genetic(pop_size, num_runs, n, city, factor):\n",
    "    population = population_lst([], pop_size, n)\n",
    "    for iteration in range(num_runs):\n",
    "        \n",
    "        population.sort(key=lambda x: score(x, city))\n",
    "        new_population = population[: int(pop_size * factor / 100)]  # Elitism\n",
    "        while len(new_population) < pop_size:\n",
    "            parent1, parent2 = random.sample(population[: int(pop_size / 2)], 2)\n",
    "            child1,child2=(reproduction(parent1, parent2))\n",
    "            \n",
    "            new_population.extend([child1, child2])\n",
    "        population = new_population[:pop_size]\n",
    "        \n",
    "    population.sort(key=lambda x: score(x, city))\n",
    "   \n",
    "    return population[0], score(population[0], city)  # Best route and its score\n",
    "\n",
    "              \n",
    "        \n",
    "        "
   ]
  },
  {
   "cell_type": "code",
   "execution_count": 340,
   "metadata": {},
   "outputs": [
    {
     "name": "stdout",
     "output_type": "stream",
     "text": [
      "Best route for Test Case 1: ([0, 2, 3, 1, 0], 12.166174573300538)\n",
      "Best route for Test Case 2: ([0, 1, 2, 3, 4, 0], 16.12899020449196)\n",
      "Best route for Test Case 3: ([0, 0, 0, 0, 0, 2, 3, 4, 5, 1, 0, 0, 0, 0, 0], 23.73706625005506)\n"
     ]
    }
   ],
   "source": [
    "\n",
    "\n",
    "# Assuming all your previously defined functions (create_vec, population_lst, score, mutation, reproduction) are here\n",
    "\n",
    "def main():\n",
    "    # Test Case 1: 4 Cities\n",
    "    city1 = [(0, 0), (1, 2), (3, 1), (4, 4)]\n",
    "    pop_size = 10\n",
    "    num_runs = 99\n",
    "    factor = 50  # Top 50% survivors in each generation\n",
    "    best_route1 = genetic(pop_size, num_runs, len(city1), city1, factor)\n",
    "    print(\"Best route for Test Case 1:\", best_route1)\n",
    "    #print(\"Distance for Best Route Test Case 1:\", score(best_route1, city1))\n",
    "    \n",
    "    # Test Case 2: 5 Cities\n",
    "    city2 = [(0, 0), (2, 2), (3, 4), (5, 2), (6, 0)]\n",
    "    best_route2 = genetic(pop_size, num_runs, len(city2), city2, factor)\n",
    "    print(\"Best route for Test Case 2:\", best_route2)\n",
    "    #print(\"Distance for Best Route Test Case 2:\", score(best_route2, city2))\n",
    "    \n",
    "    # Test Case 3: 6 Cities\n",
    "    city3 = [(0, 0), (2, 1), (3, 5), (5, 6), (7, 3), (9, 1)]\n",
    "    best_route3 = genetic(pop_size, num_runs, len(city3), city3, factor)\n",
    "    print(\"Best route for Test Case 3:\", best_route3)\n",
    "    #print(\"Distance for Best Route Test Case 3:\", score(best_route3, city3))\n",
    "\n",
    "if __name__ == \"__main__\":\n",
    "    main()\n"
   ]
  },
  {
   "cell_type": "code",
   "execution_count": 345,
   "metadata": {},
   "outputs": [
    {
     "name": "stdout",
     "output_type": "stream",
     "text": [
      "Test Case 4: 10 Cities\n",
      "Optimal Route (Index Order): (4, 8, 3, 7, 6, 0, 1, 2, 9, 5)\n",
      "Optimal Distance: 37.19842124043896\n",
      "\n",
      "GENETIC\n",
      "Best route for Test Case 3: ([0, 0, 0, 6, 3, 7, 8, 4, 5, 9, 2, 1, 0, 0, 0, 0], 37.19842124043897)\n"
     ]
    },
    {
     "data": {
      "image/png": "[encoded data removed]",
      "text/plain": [
       "<Figure size 800x600 with 1 Axes>"
      ]
     },
     "metadata": {},
     "output_type": "display_data"
    },
    {
     "name": "stdout",
     "output_type": "stream",
     "text": [
      "\n",
      "\n"
     ]
    }
   ],
   "source": [
    "import itertools\n",
    "import math\n",
    "\n",
    "# Distance calculation\n",
    "def distance(p1, p2):\n",
    "    return math.sqrt((p1[0] - p2[0])**2 + (p1[1] - p2[1])**2)\n",
    "\n",
    "# Brute-force solution to verify the optimal route and distance\n",
    "def brute_force_tsp(cities):\n",
    "    num_cities = len(cities)\n",
    "    best_distance = float('inf')\n",
    "    best_route = None\n",
    "    \n",
    "    # Iterate over all permutations of the city indices\n",
    "    for perm in itertools.permutations(range(num_cities)):\n",
    "        # Calculate the total distance for this permutation\n",
    "        total_distance = 0\n",
    "        for i in range(num_cities):\n",
    "            total_distance += distance(cities[perm[i]], cities[perm[(i+1) % num_cities]])\n",
    "        \n",
    "        # Update best route if this one is shorter\n",
    "        if total_distance < best_distance:\n",
    "            best_distance = total_distance\n",
    "            best_route = perm\n",
    "            \n",
    "    return best_route, best_distance\n",
    "\n",
    "# Test Cases\n",
    "def run_test_cases():\n",
    "    test_cases = [\n",
    "       \n",
    "        {\n",
    "            \"cities\": [(0, 0), (3, 3), (5, 5), (10, 3), (8, 7), (6, 8), (7, 2), (12, 1), (11, 6), (4, 9)],\n",
    "            \"name\": \"Test Case 4: 10 Cities\"\n",
    "        },\n",
    "    ]\n",
    "\n",
    "    for case in test_cases:\n",
    "        print(case[\"name\"])\n",
    "        cities = case[\"cities\"]\n",
    "        best_route, best_distance = brute_force_tsp(cities)\n",
    "        print(\"Optimal Route (Index Order):\", best_route)\n",
    "        print(\"Optimal Distance:\", best_distance)\n",
    "        print()\n",
    "        pop_size = 30\n",
    "        num_runs = 200\n",
    "        factor = 50  # Top 50% survivors in each generation\n",
    "        best_route3 = genetic(pop_size, num_runs, len(cities), cities, factor)\n",
    "        print(\"GENETIC\")\n",
    "        print(\"Best route for Test Case 3:\", best_route3)\n",
    "        plot_route(best_route, cities)\n",
    "        print()\n",
    "        print()\n",
    "        #print(\"Distance for Best Route Test Case 3:\", score(best_route3, cities))\n",
    "if __name__ == \"__main__\":\n",
    "    run_test_cases()\n"
   ]
  },
  {
   "cell_type": "code",
   "execution_count": 343,
   "metadata": {},
   "outputs": [],
   "source": [
    "import matplotlib.pyplot as plt\n",
    "\n",
    "def plot_route(route, city):\n",
    "    \"\"\"\n",
    "    Plots the best route on a 2D graph.\n",
    "    \"\"\"\n",
    "    x = [city[i][0] for i in route]\n",
    "    y = [city[i][1] for i in route]\n",
    "\n",
    "    plt.figure(figsize=(8, 6))\n",
    "    plt.plot(x, y, marker='o', color='blue', label='Route')\n",
    "    for i, coord in enumerate(route):\n",
    "        plt.text(city[coord][0], city[coord][1], str(coord), fontsize=10, color='red')\n",
    "    plt.title(\"Best Route\")\n",
    "    plt.xlabel(\"X-coordinate\")\n",
    "    plt.ylabel(\"Y-coordinate\")\n",
    "    plt.legend()\n",
    "    plt.show()\n"
   ]
  },
  {
   "cell_type": "code",
   "execution_count": 344,
   "metadata": {},
   "outputs": [
    {
     "ename": "IndexError",
     "evalue": "list index out of range",
     "output_type": "error",
     "traceback": [
      "\u001b[1;31m---------------------------------------------------------------------------\u001b[0m",
      "\u001b[1;31mIndexError\u001b[0m                                Traceback (most recent call last)",
      "Cell \u001b[1;32mIn[344], line 1\u001b[0m\n\u001b[1;32m----> 1\u001b[0m best_route, best_score \u001b[38;5;241m=\u001b[39m \u001b[43mgenetic\u001b[49m\u001b[43m(\u001b[49m\u001b[43mpop_size\u001b[49m\u001b[38;5;241;43m=\u001b[39;49m\u001b[38;5;241;43m50\u001b[39;49m\u001b[43m,\u001b[49m\u001b[43m \u001b[49m\u001b[43mnum_runs\u001b[49m\u001b[38;5;241;43m=\u001b[39;49m\u001b[38;5;241;43m100\u001b[39;49m\u001b[43m,\u001b[49m\u001b[43m \u001b[49m\u001b[43mn\u001b[49m\u001b[38;5;241;43m=\u001b[39;49m\u001b[38;5;241;43m10\u001b[39;49m\u001b[43m,\u001b[49m\u001b[43m \u001b[49m\u001b[43mcity\u001b[49m\u001b[38;5;241;43m=\u001b[39;49m\u001b[43mcity\u001b[49m\u001b[43m,\u001b[49m\u001b[43m \u001b[49m\u001b[43mfactor\u001b[49m\u001b[38;5;241;43m=\u001b[39;49m\u001b[38;5;241;43m20\u001b[39;49m\u001b[43m)\u001b[49m\n\u001b[0;32m      2\u001b[0m plot_route(best_route, city)\n",
      "Cell \u001b[1;32mIn[339], line 5\u001b[0m, in \u001b[0;36mgenetic\u001b[1;34m(pop_size, num_runs, n, city, factor)\u001b[0m\n\u001b[0;32m      2\u001b[0m population \u001b[38;5;241m=\u001b[39m population_lst([], pop_size, n)\n\u001b[0;32m      3\u001b[0m \u001b[38;5;28;01mfor\u001b[39;00m iteration \u001b[38;5;129;01min\u001b[39;00m \u001b[38;5;28mrange\u001b[39m(num_runs):\n\u001b[1;32m----> 5\u001b[0m     \u001b[43mpopulation\u001b[49m\u001b[38;5;241;43m.\u001b[39;49m\u001b[43msort\u001b[49m\u001b[43m(\u001b[49m\u001b[43mkey\u001b[49m\u001b[38;5;241;43m=\u001b[39;49m\u001b[38;5;28;43;01mlambda\u001b[39;49;00m\u001b[43m \u001b[49m\u001b[43mx\u001b[49m\u001b[43m:\u001b[49m\u001b[43m \u001b[49m\u001b[43mscore\u001b[49m\u001b[43m(\u001b[49m\u001b[43mx\u001b[49m\u001b[43m,\u001b[49m\u001b[43m \u001b[49m\u001b[43mcity\u001b[49m\u001b[43m)\u001b[49m\u001b[43m)\u001b[49m\n\u001b[0;32m      6\u001b[0m     new_population \u001b[38;5;241m=\u001b[39m population[: \u001b[38;5;28mint\u001b[39m(pop_size \u001b[38;5;241m*\u001b[39m factor \u001b[38;5;241m/\u001b[39m \u001b[38;5;241m100\u001b[39m)]  \u001b[38;5;66;03m# Elitism\u001b[39;00m\n\u001b[0;32m      7\u001b[0m     \u001b[38;5;28;01mwhile\u001b[39;00m \u001b[38;5;28mlen\u001b[39m(new_population) \u001b[38;5;241m<\u001b[39m pop_size:\n",
      "Cell \u001b[1;32mIn[339], line 5\u001b[0m, in \u001b[0;36mgenetic.<locals>.<lambda>\u001b[1;34m(x)\u001b[0m\n\u001b[0;32m      2\u001b[0m population \u001b[38;5;241m=\u001b[39m population_lst([], pop_size, n)\n\u001b[0;32m      3\u001b[0m \u001b[38;5;28;01mfor\u001b[39;00m iteration \u001b[38;5;129;01min\u001b[39;00m \u001b[38;5;28mrange\u001b[39m(num_runs):\n\u001b[1;32m----> 5\u001b[0m     population\u001b[38;5;241m.\u001b[39msort(key\u001b[38;5;241m=\u001b[39m\u001b[38;5;28;01mlambda\u001b[39;00m x: \u001b[43mscore\u001b[49m\u001b[43m(\u001b[49m\u001b[43mx\u001b[49m\u001b[43m,\u001b[49m\u001b[43m \u001b[49m\u001b[43mcity\u001b[49m\u001b[43m)\u001b[49m)\n\u001b[0;32m      6\u001b[0m     new_population \u001b[38;5;241m=\u001b[39m population[: \u001b[38;5;28mint\u001b[39m(pop_size \u001b[38;5;241m*\u001b[39m factor \u001b[38;5;241m/\u001b[39m \u001b[38;5;241m100\u001b[39m)]  \u001b[38;5;66;03m# Elitism\u001b[39;00m\n\u001b[0;32m      7\u001b[0m     \u001b[38;5;28;01mwhile\u001b[39;00m \u001b[38;5;28mlen\u001b[39m(new_population) \u001b[38;5;241m<\u001b[39m pop_size:\n",
      "Cell \u001b[1;32mIn[338], line 20\u001b[0m, in \u001b[0;36mscore\u001b[1;34m(vec, city)\u001b[0m\n\u001b[0;32m     14\u001b[0m dist\u001b[38;5;241m=\u001b[39m\u001b[38;5;241m0\u001b[39m\n\u001b[0;32m     16\u001b[0m \u001b[38;5;28;01mfor\u001b[39;00m i \u001b[38;5;129;01min\u001b[39;00m \u001b[38;5;28mrange\u001b[39m(\u001b[38;5;28mlen\u001b[39m(vec)\u001b[38;5;241m-\u001b[39m\u001b[38;5;241m1\u001b[39m):\n\u001b[0;32m     17\u001b[0m     \u001b[38;5;66;03m# Print the current index and the values of vec[i] and vec[i+1]\u001b[39;00m\n\u001b[0;32m     18\u001b[0m     \n\u001b[0;32m     19\u001b[0m     \u001b[38;5;66;03m# Now, execute the distance addition\u001b[39;00m\n\u001b[1;32m---> 20\u001b[0m     dist \u001b[38;5;241m=\u001b[39m dist \u001b[38;5;241m+\u001b[39m np\u001b[38;5;241m.\u001b[39msqrt(np\u001b[38;5;241m.\u001b[39msquare(\u001b[43mcity\u001b[49m\u001b[43m[\u001b[49m\u001b[43mvec\u001b[49m\u001b[43m[\u001b[49m\u001b[43mi\u001b[49m\u001b[38;5;241;43m+\u001b[39;49m\u001b[38;5;241;43m1\u001b[39;49m\u001b[43m]\u001b[49m\u001b[43m]\u001b[49m[\u001b[38;5;241m0\u001b[39m] \u001b[38;5;241m-\u001b[39m city[vec[i]][\u001b[38;5;241m0\u001b[39m]) \u001b[38;5;241m+\u001b[39m np\u001b[38;5;241m.\u001b[39msquare(city[vec[i\u001b[38;5;241m+\u001b[39m\u001b[38;5;241m1\u001b[39m]][\u001b[38;5;241m1\u001b[39m] \u001b[38;5;241m-\u001b[39m city[vec[i]][\u001b[38;5;241m1\u001b[39m]))\n\u001b[0;32m     23\u001b[0m \u001b[38;5;28;01mreturn\u001b[39;00m dist\n",
      "\u001b[1;31mIndexError\u001b[0m: list index out of range"
     ]
    }
   ],
   "source": [
    "\n"
   ]
  },
  {
   "cell_type": "code",
   "execution_count": null,
   "metadata": {},
   "outputs": [],
   "source": []
  }
 ],
 "metadata": {
  "kernelspec": {
   "display_name": "Python 3 (ipykernel)",
   "language": "python",
   "name": "python3"
  },
  "language_info": {
   "codemirror_mode": {
    "name": "ipython",
    "version": 3
   },
   "file_extension": ".py",
   "mimetype": "text/x-python",
   "name": "python",
   "nbconvert_exporter": "python",
   "pygments_lexer": "ipython3",
   "version": "3.11.9"
  }
 },
 "nbformat": 4,
 "nbformat_minor": 2
}
